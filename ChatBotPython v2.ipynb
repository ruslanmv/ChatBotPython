{
 "cells": [
  {
   "cell_type": "code",
   "execution_count": null,
   "metadata": {},
   "outputs": [],
   "source": [
    "pip install word2number\n"
   ]
  },
  {
   "cell_type": "code",
   "execution_count": 77,
   "metadata": {
    "scrolled": true
   },
   "outputs": [
    {
     "name": "stdout",
     "output_type": "stream",
     "text": [
      "Collecting wikipedia\n",
      "  Downloading wikipedia-1.4.0.tar.gz (27 kB)\n",
      "Requirement already satisfied: beautifulsoup4 in c:\\programdata\\anaconda3\\lib\\site-packages (from wikipedia) (4.9.3)\n",
      "Requirement already satisfied: requests<3.0.0,>=2.0.0 in c:\\programdata\\anaconda3\\lib\\site-packages (from wikipedia) (2.24.0)\n",
      "Note: you may need to restart the kernel to use updated packages.Requirement already satisfied: soupsieve>1.2; python_version >= \"3.0\" in c:\\programdata\\anaconda3\\lib\\site-packages (from beautifulsoup4->wikipedia) (2.0.1)\n",
      "Requirement already satisfied: idna<3,>=2.5 in c:\\programdata\\anaconda3\\lib\\site-packages (from requests<3.0.0,>=2.0.0->wikipedia) (2.10)\n",
      "\n",
      "Requirement already satisfied: urllib3!=1.25.0,!=1.25.1,<1.26,>=1.21.1 in c:\\programdata\\anaconda3\\lib\\site-packages (from requests<3.0.0,>=2.0.0->wikipedia) (1.25.11)\n",
      "Requirement already satisfied: chardet<4,>=3.0.2 in c:\\programdata\\anaconda3\\lib\\site-packages (from requests<3.0.0,>=2.0.0->wikipedia) (3.0.4)\n",
      "Requirement already satisfied: certifi>=2017.4.17 in c:\\programdata\\anaconda3\\lib\\site-packages (from requests<3.0.0,>=2.0.0->wikipedia) (2020.6.20)\n",
      "Building wheels for collected packages: wikipedia\n",
      "  Building wheel for wikipedia (setup.py): started\n",
      "  Building wheel for wikipedia (setup.py): finished with status 'done'\n",
      "  Created wheel for wikipedia: filename=wikipedia-1.4.0-py3-none-any.whl size=11689 sha256=8e68c07d998b92b5f357f8c5729af4db4f14b6054acd79fd1ccc1145aeb64dda\n",
      "  Stored in directory: c:\\users\\rusla\\appdata\\local\\pip\\cache\\wheels\\07\\93\\05\\72c05349177dca2e0ba31a33ba4f7907606f7ddef303517c6a\n",
      "Successfully built wikipedia\n",
      "Installing collected packages: wikipedia\n",
      "Successfully installed wikipedia-1.4.0\n"
     ]
    }
   ],
   "source": [
    "pip install wikipedia"
   ]
  },
  {
   "cell_type": "code",
   "execution_count": null,
   "metadata": {},
   "outputs": [],
   "source": [
    "from word2number import w2n\n",
    "import wikipedia"
   ]
  },
  {
   "cell_type": "code",
   "execution_count": 726,
   "metadata": {},
   "outputs": [],
   "source": [
    "def findtopic(topic_string):\n",
    "    import wikipedia\n",
    "    result=wikipedia.search(topic_string, results = 5, suggestion = False)\n",
    "    #print(len(result))\n",
    "    search=True\n",
    "    if (len(result) == 0):\n",
    "        search = False    \n",
    "    if (search == False):\n",
    "        result=wikipedia.suggest(topic_string)\n",
    "        texQuestion=\"Did you wanted to say \"+result +\" yes or no?\"\n",
    "        print(texQuestion)\n",
    "        speak(texQuestion)\n",
    "        whichtopic= input()\n",
    "        if (whichtopic=='yes'):\n",
    "            texSay=\"I will search \" + result\n",
    "            print(texSay)\n",
    "            speak(texSay)\n",
    "            result=wikipedia.search(result, results = 5, suggestion = False)\n",
    "            search=True\n",
    "        else:\n",
    "            texSay=\"Sorry! I cannot help you. Try again \"\n",
    "            print(texSay)\n",
    "            speak(texSay)\n",
    "    if (search== True) :\n",
    "        #print(result)\n",
    "        size=len(result)\n",
    "        texResult=\"I found \" + str(size) + \" results:\"\n",
    "        print( texResult)\n",
    "        speak(texResult)\n",
    "        texQuestion='Which topic number do you want to know?:'\n",
    "        print(texQuestion)\n",
    "        speak(texQuestion)\n",
    "        for p in result:\n",
    "            indexa=result.index(p)+1\n",
    "            print(str(indexa)+\" \" +p)\n",
    "            \n",
    "        whichnumber= input()\n",
    "        number=w2n.word_to_num(whichnumber)\n",
    "        indexnumber=int(number)-1\n",
    "        \n",
    "        texQuestion=\"Did you say the number \"+whichnumber\n",
    "        print(texQuestion)\n",
    "        speak(texQuestion)\n",
    "        texQuestion=\"Topic: \"+result[indexnumber]\n",
    "        print(texQuestion)\n",
    "        texQuestion=\" yes or no\"\n",
    "        print(texQuestion)\n",
    "        speak(texQuestion)\n",
    "        question= input()\n",
    "        \n",
    "        if (question == \"yes\"):\n",
    "            texSay=\"Thats great, I will try search about: \" + result[indexnumber]\n",
    "            print( texSay)\n",
    "            speak(texSay)\n",
    "            newresult=result[indexnumber]\n",
    "\n",
    "            try:\n",
    "                 searchwikipedia(newresult)\n",
    "            except ValueError:\n",
    "                 print(\"Not Found\")\n",
    "\n",
    "        else:\n",
    "            texSay=\"Sorry! I cannot help you. Try again \"\n",
    "            print(texSay)\n",
    "            speak(texSay)\n",
    "            \n",
    "        \n",
    "        \n",
    "        \n",
    "        \n",
    "   # pagina = wikipedia.page(result) \n",
    "    #print(pagina.title)\n",
    "    #print(pagina.url)\n",
    "    #print(pagina.content)\n",
    "   # print(wikipedia.summary(topic_string))\n",
    "\n",
    "    "
   ]
  },
  {
   "cell_type": "code",
   "execution_count": 730,
   "metadata": {},
   "outputs": [
    {
     "name": "stdout",
     "output_type": "stream",
     "text": [
      "I found 5 results:\n",
      "Which topic number do you want to know?:\n",
      "1 Christmas\n",
      "2 Christmas Christmas\n",
      "3 Christmas Island\n",
      "4 A Christmas Carol\n",
      "5 This Christmas\n",
      "1\n",
      "Did you say the number 1\n",
      "Topic: Christmas\n",
      " yes or no\n",
      "yes\n",
      "Thats great, I will try search about: Christmas\n",
      "I am still searching\n",
      " I am looking for:\n",
      "https://en.wikipedia.org/wiki/Christmas\n",
      "Web site exists\n",
      "True\n",
      " Etymology  Other names Christmas (or the Feast of the Nativity)  is an annual festival commemorating the birth of Jesus Christ, observed primarily on December 25 as a religious and cultural celebration among billions of people around the world. A feast central to the Christian liturgical year, it is preceded by the season of Advent or the Nativity Fast and initiates the season of Christmastide, which historically in the West lasts twelve days and culminates on Twelfth Night. Christmas Day is a public holiday in many of the world's nations, is celebrated religiously by a majority of Christians, as well as culturally by many non-Christians, and forms an integral part of the holiday season centered around it. Nativity The traditional Christmas narrative, the Nativity of Jesus, delineated in the New Testament says that Jesus was born in Bethlehem, in accordance with messianic prophecies. When Joseph and Mary arrived in the city, the inn had no room and so they were offered a stable where the Christ Child was soon born, with angels proclaiming this news to shepherds who then further disseminated the information. History Although the month and date of Jesus' birth are unknown, the church in the early fourth century fixed the date as December 25. This corresponds to the date of the winter solstice on the Roman calendar. Most Christians celebrate on December 25 in the Gregorian calendar, which has been adopted almost universally in the civil calendars used in countries throughout the world. However, part of the Eastern Christian Churches celebrate Christmas on December 25 of the older Julian calendar, which currently corresponds to January 7 in the Gregorian calendar. For Christians, believing that God came into the world in the form of man to atone for the sins of humanity, rather than knowing Jesus' exact birth date, is considered to be the primary purpose in celebrating Christmas. Introduction of the festival The celebratory customs associated in various countries with Christmas have a mix of pre-Christian, Christian, and secular themes and origins. Popular modern customs of the holiday include gift giving; completing an Advent calendar or Advent wreath; Christmas music and caroling; viewing a Nativity play; an exchange of Christmas cards; church services; a special meal; and the display of various Christmas decorations, including Christmas trees, Christmas lights, nativity scenes, garlands, wreaths, mistletoe, and holly. In addition, several closely related and often interchangeable figures, known as Santa Claus, Father Christmas, Saint Nicholas, and Christkind, are associated with bringing gifts to children during the Christmas season and have their own body of traditions and lore. Because gift-giving and many other aspects of the Christmas festival involve heightened economic activity, the holiday has become a significant event and a key sales period for retailers and businesses. The economic impact of Christmas has grown steadily over the past few centuries in many regions of the world. Solstice date \"Christmas\" is a shortened form of \"Christ's mass\". The word is recorded as Crīstesmæsse in 1038 and Cristes-messe in 1131. Crīst (genitive Crīstes) is from Greek Khrīstos (Χριστός), a translation of Hebrew Māšîaḥ (מָשִׁיחַ), \"Messiah\", meaning \"anointed\"; and mæsse is from Latin missa, the celebration of the Eucharist. Talmudic hypothesis The form Christenmas was also historically used, but is now considered archaic and dialectal. The term derives from Middle English Cristenmasse, meaning \"Christian mass\". Xmas is an abbreviation of Christmas found particularly in print, based on the initial letter chi (Χ) in Greek Khrīstos (Χριστός), \"Christ\", though numerous style guides discourage its use. This abbreviation has precedent in Middle English Χρ̄es masse (where \"Χρ̄\" is an abbreviation for Χριστός). Calculation hypothesis In addition to \"Christmas\", the holiday has been known by various other names throughout its history. The Anglo-Saxons referred to the feast as \"midwinter\", or, more rarely, as Nātiuiteð (from Latin nātīvitās below). \"Nativity\", meaning \"birth\", is from Latin nātīvitās. In Old English, Gēola (Yule) referred to the period corresponding to December and January, which was eventually equated with Christian Christmas. \"Noel\" (or \"Nowel\") entered English in the late 14th century and is from the Old French noël or naël, itself ultimately from the Latin nātālis (diēs) meaning \"birth (day)\". History of religions hypothesis The gospels of Luke and Matthew describe Jesus as being born in Bethlehem to the Virgin Mary. In Luke, Joseph and Mary travel from Nazareth to Bethlehem for the census, and Jesus is born there and laid in a manger. Angels proclaimed him a savior for all people, and shepherds came to adore him. Relation to concurrent celebrations Matthew adds that the magi follow a star to Bethlehem to bring gifts to Jesus, born the king of the Jews. King Herod orders the massacre of all the boys less than two years old in Bethlehem, but the family flees to Egypt and later returns to Nazareth. Post-classical history The nativity sequences included in the Gospels of Matthew and Luke prompted early Christian writers to suggest various dates for the anniversary. Although no date is indicated in the gospels, early Christians connected Jesus to the Sun through the use of such phrases as \"Sun of righteousness.\" The Romans marked the winter solstice on December 25. The first recorded Christmas celebration was in Rome on December 25, AD 336. In the 3rd century, the date of the nativity was the subject of great interest. Around AD 200, Clement of Alexandria wrote: Modern history There are those who have determined not only the year of our Lord's birth, but also the day; and they say that it took place in the 28th year of Augustus, and in the 25th day of  Pachon  ... Further, others say that He was born on the 24th or 25th of Pharmuthi . 18th century  Various factors contributed to the selection of December 25 as a date of celebration: it was the date of the winter solstice on the Roman calendar and it was nine months after March 25, the date of the vernal equinox and a date linked to the conception of Jesus (celebrated as the Feast of the Annunciation). 19th century Christmas played a role in the Arian controversy of the fourth century. After this controversy ran its course, the prominence of the holiday declined for a few centuries. The feast regained prominence after 800 when Charlemagne was crowned emperor on Christmas Day. 20th century In Puritan England, Christmas was banned as it was associated with drunkenness and other misbehaviour. It was restored as a legal holiday in England in 1660, but remained disreputable in the minds of many people. In the early 19th century, Christmas festivities and services became widespread with the rise of the Oxford Movement in the Church of England that emphasized the centrality of Christmas in Christianity and charity to the poor, along with Washington Irving, Charles Dickens, and other authors emphasizing family, children, kind-heartedness, gift-giving, and Santa Claus (for Irving), or Father Christmas (for Dickens). Observance and traditions Christmas does not appear on the lists of festivals given by the early Christian writers Irenaeus and Tertullian. Origen and Arnobius both fault the pagans for celebrating birthdays, which suggests that Christmas was not celebrated in their time. Arnobius wrote after AD 297. The Chronograph of 354 records that a Christmas celebration took place in Rome in 336, eight days before the calends of January. Church attendance In the East, the birth of Jesus was celebrated in connection with the Epiphany on January 6. This holiday was not primarily about the nativity, but rather the baptism of Jesus. Christmas was promoted in the East as part of the revival of Orthodox Christianity that followed the death of the pro-Arian Emperor Valens at the Battle of Adrianople in 378. The feast was introduced in Constantinople in 379, in Antioch by John Chrysostom towards the end of the fourth century, probably in 388, and in Alexandria in the following century. Decorations Some scholars hold that December 25 was the date of the winter solstice in the Roman calendar. Another scholar writes that \"the cult of the Sun in pagan Rome ironically did not celebrate the winter solstice nor any of the other quarter-tense days, as one might expect\".  A late fourth-century sermon by Saint Augustine explains why this was a fitting day to celebrate Christ's nativity: \"Hence it is that He was born on the day which is the shortest in our earthly reckoning and from which subsequent days begin to increase in length. He, therefore, who bent low and lifted us up chose the shortest day, yet the one whence light begins to increase.\" Nativity play Linking Jesus to the Sun was supported by various Biblical passages. Jesus was considered to be the \"Sun of righteousness\" prophesied by Malachi: \"Unto you shall the sun of righteousness arise, and healing is in his wings.\" Music and carols Such solar symbolism could support more than one date of birth. An anonymous work known as De Pascha Computus (243) linked the idea that creation began at the spring equinox, on March 25, with the conception or birth (the word nascor can mean either) of Jesus on March 28, the day of the creation of the sun in the Genesis account. One translation reads: \"O the splendid and divine providence of the Lord, that on that day, the very day, on which the sun was made, March 28, a Wednesday, Christ should be born. Traditional cuisine In the 17th century, Isaac Newton, who, coincidentally, was born on December 25, argued that the date of Christmas may have been selected to correspond with the solstice. Cards Conversely, according to Steven Hijmans of the University of Alberta, \"It is cosmic symbolism ... which inspired the Church leadership in Rome to elect the southern solstice, December 25, as the birthday of Christ, and the northern solstice as that of John the Baptist, supplemented by the equinoxes as their respective dates of conception.\" Commemorative stamps An Aggadic legend from tractate Avodah Zarah 8a contains contemporary observations regarding the Roman sun-cult holidays, and a theory of pre-historic origin of winter solstice festival. Gift giving Mishna Avodah Zarah 8a.5: And these are the festivals of the slaves of the stars: Kalenda, Saturnalia, and Kratesis, and the day of the festival of their kings, and the birthday of the king, and the anniversary of the day of the death of the king. Gift-bearing figures Gemara 8a.6: Rav Ḥanan bar Rava says: When are these festivals celebrated? Kalenda is celebrated during the eight days after the winter solstice, and Saturnalia is celebrated during the eight days before the winter solstice. Date according to Julian calendar Gemara 8a.7: With regard to the dates of these festivals, the Sages taught: When Adam the first man saw that the day was progressively diminishing, as the days become shorter from the autumnul equinox until the winter solstice, he did not yet know that this is a normal phenomenon, and therefore he said: Woe is me; perhaps because I sinned the world is becoming dark around me and will ultimately return to the primordial state of chaos and disorder. And this is the death that was sentenced upon me from Heaven, as it is written: “And to dust shall you return” (Genesis 3:19). He arose and spent eight days in fasting and in prayer. Listing Gemara 8a.8: Once he saw that the season of Tevet, i.e., the winter solstice, had arrived, and saw that the day was progressively lengthening after the solstice, he said: Clearly, the days become shorter and then longer, and this is the order of the world. He went and observed a festival for eight days. Upon the next year, he observed both these eight days on which he had fasted on the previous year, and these eight days of his celebration, as days of festivities. He, Adam, established these festivals for the sake of Heaven, but they, the gentiles of later generations, established them for the sake of idol worship. Economy The calculation hypothesis suggests that an earlier holiday held on March 25 became associated with the Incarnation.  Christmas was then calculated as nine months later. The calculation hypothesis was proposed by French writer Louis Duchesne in 1889. In modern times, March 25 is celebrated as Annunciation. This holiday was created in the seventh century and was assigned to a date that is nine months before Christmas, in addition to being the traditional date of the equinox. It is unrelated to the Quartodeciman, which had been forgotten by this time. Forgotten by everyone except the Jews, of course, who continued to observe Passover; also a Quartodeciman feast. Controversies Early Christians celebrated the life of Jesus on a date considered equivalent to 14 Nisan (Passover) on the local calendar. Because Passover was held on the 14th of the month, this feast is referred to as the Quartodeciman. All the major events of Christ's life, especially the passion, were celebrated on this date. In his letter to the Corinthians, Paul mentions Passover, presumably celebrated according to the local calendar in Corinth. Tertullian (d. 220), who lived in Latin-speaking North Africa, gives the date of passion celebration as March 25. The date of the passion was moved to Good Friday in 165 when Pope Soter created Easter by reassigning the Resurrection to a Sunday. According to the calculation hypothesis, the celebration of the Quartodeciman continued in some areas and the feast became associated with Incarnation. See also The calculation hypothesis is considered academically to be \"a thoroughly viable hypothesis\", though not certain. It was a traditional Jewish belief that great men were born and died on the same day, so lived a whole number of years, without fractions: Jesus was therefore considered to have been conceived on March 25, as he died on March 25, which was calculated to have coincided with 14 Nisan. A passage in Commentary on the Prophet Daniel (204) by Hippolytus of Rome identifies December 25 as the date of the nativity. This passage is generally considered a late interpellation. But the manuscript includes another passage, one that is more likely to be authentic, that gives the passion as March 25. Notes In 221, Sextus Julius Africanus (c. 160 – c. 240) gave March 25 as the day of creation and of the conception of Jesus in his universal history. This conclusion was based on solar symbolism, with March 25 the date of the equinox. As this implies a birth in December, it is sometimes claimed to be the earliest identification of December 25 as the nativity. However, Africanus was not such an influential writer that it is likely he determined the date of Christmas. References The tractate De solstitia et aequinoctia conceptionis et nativitatis Domini nostri Iesu Christi et Iohannis Baptistae, falsely attributed to John Chrysostom, also argued that Jesus was conceived and crucified on the same day of the year and calculated this as March 25. This anonymous tract also states: \"But Our Lord, too, is born in the month of December ... the eight before the calends of January  ..., But they call it the 'Birthday of the Unconquered'. Who indeed is so unconquered as Our Lord...? Or, if they say that it is the birthday of the Sun, He is the Sun of Justice.\" Further reading The rival \"History of Religions\" hypothesis suggests that the Church selected December 25 date to appropriate festivities held by the Romans in honor of the Sun god Sol Invictus. This cult was established by Aurelian in 274. An explicit expression of this theory appears in an annotation of uncertain date added to a manuscript of a work by 12th-century Syrian bishop Jacob Bar-Salibi. The scribe who added it wrote: Ext\n"
     ]
    }
   ],
   "source": [
    "findtopic(\"Christmas\")\n",
    "            "
   ]
  },
  {
   "cell_type": "code",
   "execution_count": 720,
   "metadata": {},
   "outputs": [],
   "source": [
    "def searchwikipedia(string):\n",
    "    try:\n",
    "        pagina = wikipedia.page(string)\n",
    "        print(pagina.title)\n",
    "        print(pagina.url)\n",
    "        print(wikipedia.summary(string))\n",
    "    #   print(pagina.content)\n",
    "    except wikipedia.exceptions.PageError as error:\n",
    "        pass        \n",
    "    except wikipedia.DisambiguationError as e:\n",
    "        print(\"I am still searching\")\n",
    "        urlwiki= 'https://en.wikipedia.org/wiki/'+string\n",
    "        print(\" I am looking for:\")\n",
    "        print(urlwiki)\n",
    "        existURL=checkExistenceWEB(urlwiki)\n",
    "        print(existURL)\n",
    "        if(existURL==True):\n",
    "            BeatifulSoupExtract(urlwiki)\n",
    "        else:\n",
    "                print(\"There is nothing\")\n",
    "                print(e.options)\n",
    "                texError=\"I am Sorry, I cannot find that\"#there is a Disambiguation Error\n",
    "                print( texError)\n",
    "                speak(texError)\n",
    "                texError=\"if there is no suggestion or search results, the page doesn't exist\"\n",
    "                print(texError)\n",
    "                speak(texError)\n",
    "                result=e.options\n",
    "                size=len(result)\n",
    "                texResult=\"I found \" + str(size) + \" new results:\"\n",
    "                print( texResult)\n",
    "                speak(texResult)\n",
    "                texQuestion='Which topic number do you want to know?:'\n",
    "                print(texQuestion)\n",
    "                speak(texQuestion)\n",
    "                for p in result:\n",
    "                    indexa=result.index(p)+1\n",
    "                    print(str(indexa)+\" \" +p)\n",
    "\n",
    "                whichnumber= input()\n",
    "                number=w2n.word_to_num(whichnumber)\n",
    "                indexnumber=int(number)-1\n",
    "\n",
    "                texQuestion=\"Did you say the number \"+whichnumber\n",
    "                print(texQuestion)\n",
    "                speak(texQuestion)\n",
    "                texQuestion=\"Topic: \"+result[indexnumber]\n",
    "                print(texQuestion)\n",
    "                texQuestion=\" yes or no\"\n",
    "                print(texQuestion)\n",
    "                speak(texQuestion)\n",
    "                question= input()\n",
    "\n",
    "                if (question == \"yes\"):\n",
    "                    texSay=\"Thats great, I will try search about: \" + result[indexnumber]\n",
    "                    print( texSay)\n",
    "                    speak(texSay)\n",
    "                    newresult=result[indexnumber]\n",
    "                #s = random.choice(e.options)\n",
    "                pagina = wikipedia.page(newresult)\n",
    "                print(pagina.title)\n",
    "                return pagina"
   ]
  },
  {
   "cell_type": "code",
   "execution_count": 725,
   "metadata": {},
   "outputs": [
    {
     "name": "stdout",
     "output_type": "stream",
     "text": [
      "I am still searching\n",
      " I am looking for:\n",
      "https://en.wikipedia.org/wiki/Ruslan\n",
      "Web site exists\n",
      "True\n",
      "Ruslan may refer t\n"
     ]
    }
   ],
   "source": [
    "searchwikipedia(\"Ruslan\")"
   ]
  },
  {
   "cell_type": "code",
   "execution_count": 674,
   "metadata": {},
   "outputs": [],
   "source": [
    "def checkExistenceWEB(string):\n",
    "    import requests\n",
    "    try:\n",
    "        request = requests.get(string)\n",
    "        if request.status_code == 200:\n",
    "            print('Web site exists')\n",
    "            existance=True\n",
    "            return existance\n",
    "    except:\n",
    "        print('Web site does not exist') \n",
    "        "
   ]
  },
  {
   "cell_type": "code",
   "execution_count": 679,
   "metadata": {},
   "outputs": [
    {
     "name": "stdout",
     "output_type": "stream",
     "text": [
      "Web site exists\n"
     ]
    }
   ],
   "source": [
    "aaaa=checkExistenceWEB('https://en.wikipedia.org/wiki/Chatbots')"
   ]
  },
  {
   "cell_type": "code",
   "execution_count": null,
   "metadata": {},
   "outputs": [],
   "source": []
  },
  {
   "cell_type": "code",
   "execution_count": null,
   "metadata": {},
   "outputs": [],
   "source": []
  },
  {
   "cell_type": "code",
   "execution_count": 785,
   "metadata": {},
   "outputs": [],
   "source": [
    "def search_wiki(keywords, number_of_search, wiki_pages):\n",
    "    suggestion = False\n",
    "\n",
    "    for word in range(0, len(keywords) - 1):\n",
    "        # print(keywords[word], \">>\")\n",
    "        result_set = wikipedia.search(keywords[word], number_of_search, suggestion)\n",
    "        for term in result_set:\n",
    "\n",
    "            try:\n",
    "                page = wikipedia.page(term, preload=False)\n",
    "                page_title = page.title\n",
    "                # page_summary = page.summary\n",
    "                page_content = page.content\n",
    "                wiki_pages[page_title] = page_content\n",
    "\n",
    "            except wikipedia.exceptions.DisambiguationError as error:\n",
    "                pass\n",
    "            except wikipedia.exceptions.PageError as error:\n",
    "                pass\n",
    "                # print(error.options)\n",
    "\n",
    "            # print(page_title, len(page_content), type(page_content))\n",
    "\n",
    "    return wiki_pages"
   ]
  },
  {
   "cell_type": "code",
   "execution_count": null,
   "metadata": {},
   "outputs": [],
   "source": []
  },
  {
   "cell_type": "code",
   "execution_count": null,
   "metadata": {},
   "outputs": [],
   "source": []
  },
  {
   "cell_type": "code",
   "execution_count": null,
   "metadata": {},
   "outputs": [],
   "source": [
    "def get_articles(language, no_words, max_no_articles, search, **kwargs):\n",
    "    \"\"\" Retrieve articles from Wikipedia \"\"\"\n",
    "    wikipedia.set_rate_limiting(True) # be polite\n",
    "    wikipedia.set_lang(language)\n",
    "    if search is not None:\n",
    "        titles = wikipedia.search(search, results = max_no_articles)\n",
    "    else:\n",
    "        titles = wikipedia.random(pages = max_no_articles)\n",
    "\n",
    "    articles = []\n",
    "    current_no_words = 0\n",
    "    for title in titles:\n",
    "        print(\"INFO: loading {}\".format(title))\n",
    "        page = wikipedia.page(title=title)\n",
    "        content = page.content\n",
    "        article_no_words = len(content.split())\n",
    "        current_no_words += article_no_words\n",
    "        print(\"INFO: article contains {} words\".format(article_no_words))\n",
    "        articles.append((title, content))\n",
    "        if current_no_words >= no_words:\n",
    "            break\n",
    "\n",
    "    return articles "
   ]
  },
  {
   "cell_type": "code",
   "execution_count": null,
   "metadata": {},
   "outputs": [],
   "source": []
  },
  {
   "cell_type": "code",
   "execution_count": 678,
   "metadata": {
    "scrolled": true
   },
   "outputs": [
    {
     "data": {
      "text/plain": [
       "True"
      ]
     },
     "execution_count": 678,
     "metadata": {},
     "output_type": "execute_result"
    }
   ],
   "source": []
  },
  {
   "cell_type": "code",
   "execution_count": null,
   "metadata": {},
   "outputs": [],
   "source": [
    "def wiki(bot, event, *args):\n",
    "    \"\"\"lookup a term on Wikipedia\"\"\"\n",
    "\n",
    "    term = \" \".join(args)\n",
    "    if not term:\n",
    "        return\n",
    "\n",
    "    try:\n",
    "        page = wikipedia.page(term, auto_suggest=False)\n",
    "\n",
    "        summary = page.summary.strip()\n",
    "        summary = summary.replace('\\r\\n', '\\n').replace('\\r', '\\n')\n",
    "        summary = re.sub('\\n+', \"\\n\", summary).replace('\\n', '<br /><br />')\n",
    "        source = _('<i>source: <a href=\"{}\">{}</a></i>').format(page.url, page.url)\n",
    "\n",
    "        html_text = '<b>\"{}\"</b><br /><br />{}<br /><br />{}'.format(term, summary, source)\n",
    "    except wikipedia.exceptions.PageError:\n",
    "        html_text = _(\"<i>no entry found for {}</i>\").format(term)\n",
    "    except wikipedia.exceptions.DisambiguationError as e:\n",
    "        exception_text = str(e).strip().replace(\"\\n\", \"<br />\")\n",
    "        html_text = \"<i>{}</i>\".format(exception_text)\n",
    "\n",
    "    yield from bot.coro_send_message(event.conv, html_text) "
   ]
  },
  {
   "cell_type": "code",
   "execution_count": null,
   "metadata": {},
   "outputs": [],
   "source": []
  },
  {
   "cell_type": "code",
   "execution_count": null,
   "metadata": {},
   "outputs": [],
   "source": [
    "existances=checkExistenceWEB(string)"
   ]
  },
  {
   "cell_type": "code",
   "execution_count": 620,
   "metadata": {},
   "outputs": [
    {
     "data": {
      "text/plain": [
       "'https://en.wikipedia.org/wiki/John_D._Hunter'"
      ]
     },
     "execution_count": 620,
     "metadata": {},
     "output_type": "execute_result"
    }
   ],
   "source": [
    "'https://en.wikipedia.org/wiki/'+'John_D._Hunter'"
   ]
  },
  {
   "cell_type": "code",
   "execution_count": null,
   "metadata": {},
   "outputs": [],
   "source": []
  },
  {
   "cell_type": "code",
   "execution_count": 708,
   "metadata": {},
   "outputs": [],
   "source": [
    "def BeatifulSoupExtract(urlstring):\n",
    "# ========== 2. Using urllib & BeatifulSoup ==========\n",
    "# Import packages\n",
    "    from urllib.request import urlopen\n",
    "    from bs4 import BeautifulSoup\n",
    "    import re\n",
    "# Specify url of the web page\n",
    "    source = urlopen(urlstring).read()\n",
    "# Make a soup \n",
    "    soup = BeautifulSoup(source,'lxml')\n",
    "    soup\n",
    "    # Extract the plain text content from paragraphs\n",
    "    paras = []\n",
    "    for paragraph in soup.find_all('p'):\n",
    "        paras.append(str(paragraph.text))\n",
    "\n",
    "    # Extract text from paragraph headers\n",
    "    heads = []\n",
    "    for head in soup.find_all('span', attrs={'mw-headline'}):\n",
    "        heads.append(str(head.text))\n",
    "\n",
    "    # Interleave paragraphs & headers\n",
    "    text = [val for pair in zip(paras, heads) for val in pair]\n",
    "    text = ' '.join(text)\n",
    "\n",
    "    # Drop footnote superscripts in brackets\n",
    "    text = re.sub(r\"\\[.*?\\]+\", '', text)\n",
    "\n",
    "    # Replace '\\n' (a new line) with '' and end the string at $1000.\n",
    "    text = text.replace('\\n', '')[:-11]\n",
    "    print(text)"
   ]
  },
  {
   "cell_type": "code",
   "execution_count": 625,
   "metadata": {},
   "outputs": [],
   "source": [
    "BeatifulSoupExtract('https://en.wikipedia.org/wiki/John_D._Hunter')"
   ]
  },
  {
   "cell_type": "code",
   "execution_count": null,
   "metadata": {},
   "outputs": [],
   "source": []
  },
  {
   "cell_type": "code",
   "execution_count": null,
   "metadata": {},
   "outputs": [],
   "source": []
  },
  {
   "cell_type": "code",
   "execution_count": null,
   "metadata": {},
   "outputs": [],
   "source": []
  },
  {
   "cell_type": "code",
   "execution_count": null,
   "metadata": {},
   "outputs": [],
   "source": []
  },
  {
   "cell_type": "code",
   "execution_count": null,
   "metadata": {},
   "outputs": [],
   "source": []
  },
  {
   "cell_type": "code",
   "execution_count": null,
   "metadata": {},
   "outputs": [],
   "source": []
  },
  {
   "cell_type": "code",
   "execution_count": 586,
   "metadata": {},
   "outputs": [
    {
     "name": "stdout",
     "output_type": "stream",
     "text": [
      "John D. Hunter (August 1, 1968 – August 28, 2012) was an American neurobiologist and the original author of Matplotlib. Biography He was brought up in Dyersburg, Tennessee. He graduated from McCallie High School. He studied initially at Princeton University, later he obtained a Ph.D. in neurobiology from the University of Chicago in 2004. In 2005, he joined TradeLink Securities as a Quantitative Analyst. Later, he was one of the founding directors of NumFOCUS Foundation. Matplotlib Matplotlib was originally  conceived to visualize electrocorticography (ECoG) data of epilepsy patients during post-doctoral research in neurobiology. The open-source tool  emerged as the most widely used plotting library for the Python programming language, and a core component of the scientific Python stack, along with Numpy, Scipy and IPython. Matplotlib was used for data visualization during landing of the Phoenix spacecraft in 2008 as well as for the creation of the first image of a black hole. Personal life He was diagnosed with malignant colon cancer and died from cancer treatment complications on August 28, 2012. His memorial service was held at the University of Chicago's Rockefeller Chapel (which was also the location of his Ph.D. graduation) on October 1, 2012. He is survived by his wife Miriam, and three daughters: Clara, Ava, and Rahel. A memorial fund to honor his work has been established to help with the education of his three daughters. Awards Python Software Foundation awarded its first Distinguished Service Award — the Foundation's highest honor  — to Hunter in order to recognize his long-term excellence in the Python community. Legacy From 2013 onwards, the SciPy Conference has hosted the annual John Hunter Excellence in Plotting Contest in his honor to continue the advancement of scientific plotting, where the first prize winner is awarded with $1000.\n"
     ]
    }
   ],
   "source": [
    "# ========== 2. Using urllib & BeatifulSoup ==========\n",
    "# Import packages\n",
    "from urllib.request import urlopen\n",
    "from bs4 import BeautifulSoup\n",
    "import re\n",
    "\n",
    "# Specify url of the web page\n",
    "source = urlopen('https://en.wikipedia.org/wiki/John_D._Hunter').read()\n",
    "# Make a soup \n",
    "soup = BeautifulSoup(source,'lxml')\n",
    "soup\n",
    "\n",
    "# Extract the plain text content from paragraphs\n",
    "paras = []\n",
    "for paragraph in soup.find_all('p'):\n",
    "    paras.append(str(paragraph.text))\n",
    "\n",
    "# Extract text from paragraph headers\n",
    "heads = []\n",
    "for head in soup.find_all('span', attrs={'mw-headline'}):\n",
    "    heads.append(str(head.text))\n",
    "\n",
    "# Interleave paragraphs & headers\n",
    "text = [val for pair in zip(paras, heads) for val in pair]\n",
    "text = ' '.join(text)\n",
    "\n",
    "# Drop footnote superscripts in brackets\n",
    "text = re.sub(r\"\\[.*?\\]+\", '', text)\n",
    "\n",
    "# Replace '\\n' (a new line) with '' and end the string at $1000.\n",
    "text = text.replace('\\n', '')[:-11]\n",
    "print(text)"
   ]
  },
  {
   "cell_type": "code",
   "execution_count": 760,
   "metadata": {},
   "outputs": [
    {
     "data": {
      "text/plain": [
       "\"John D. Hunter (August 1, 1968 – August 28, 2012) was an American neurobiologist and the original author of Matplotlib. Biography He was brought up in Dyersburg, Tennessee. He graduated from McCallie High School. He studied initially at Princeton University, later he obtained a Ph.D. in neurobiology from the University of Chicago in 2004. In 2005, he joined TradeLink Securities as a Quantitative Analyst. Later, he was one of the founding directors of NumFOCUS Foundation. Matplotlib Matplotlib was originally  conceived to visualize electrocorticography (ECoG) data of epilepsy patients during post-doctoral research in neurobiology. The open-source tool  emerged as the most widely used plotting library for the Python programming language, and a core component of the scientific Python stack, along with Numpy, Scipy and IPython. Matplotlib was used for data visualization during landing of the Phoenix spacecraft in 2008 as well as for the creation of the first image of a black hole. Personal life He was diagnosed with malignant colon cancer and died from cancer treatment complications on August 28, 2012. His memorial service was held at the University of Chicago's Rockefeller Chapel (which was also the location of his Ph.D. graduation) on October 1, 2012. He is survived by his wife Miriam, and three daughters: Clara, Ava, and Rahel. A memorial fund to honor his work has been established to help with the education of his three daughters. Awards Python Software Foundation awarded its first Distinguished Service Award — the Foundation's highest honor  — to Hunter in order to recognize his long-term excellence in the Python community. Legacy From 2013 onwards, the SciPy Conference has hosted the annual John Hunter Excellence in Plotting Contest in his honor to continue the advancement of scientific plotting, where the first prize winner is awarded with $1000.\""
      ]
     },
     "execution_count": 760,
     "metadata": {},
     "output_type": "execute_result"
    }
   ],
   "source": [
    "text"
   ]
  },
  {
   "cell_type": "code",
   "execution_count": 761,
   "metadata": {},
   "outputs": [
    {
     "data": {
      "text/plain": [
       "str"
      ]
     },
     "execution_count": 761,
     "metadata": {},
     "output_type": "execute_result"
    }
   ],
   "source": [
    "type(text)"
   ]
  },
  {
   "cell_type": "code",
   "execution_count": null,
   "metadata": {},
   "outputs": [],
   "source": []
  },
  {
   "cell_type": "code",
   "execution_count": null,
   "metadata": {},
   "outputs": [],
   "source": []
  },
  {
   "cell_type": "code",
   "execution_count": null,
   "metadata": {},
   "outputs": [],
   "source": []
  },
  {
   "cell_type": "code",
   "execution_count": null,
   "metadata": {},
   "outputs": [],
   "source": []
  },
  {
   "cell_type": "code",
   "execution_count": null,
   "metadata": {},
   "outputs": [],
   "source": []
  },
  {
   "cell_type": "code",
   "execution_count": null,
   "metadata": {},
   "outputs": [],
   "source": []
  },
  {
   "cell_type": "code",
   "execution_count": null,
   "metadata": {},
   "outputs": [],
   "source": []
  },
  {
   "cell_type": "code",
   "execution_count": null,
   "metadata": {},
   "outputs": [],
   "source": []
  },
  {
   "cell_type": "code",
   "execution_count": 543,
   "metadata": {},
   "outputs": [
    {
     "data": {
      "text/plain": [
       "True"
      ]
     },
     "execution_count": 543,
     "metadata": {},
     "output_type": "execute_result"
    }
   ],
   "source": [
    "3 in [1, 2, 3] # => True"
   ]
  },
  {
   "cell_type": "code",
   "execution_count": null,
   "metadata": {},
   "outputs": [],
   "source": []
  },
  {
   "cell_type": "code",
   "execution_count": null,
   "metadata": {},
   "outputs": [],
   "source": []
  },
  {
   "cell_type": "code",
   "execution_count": null,
   "metadata": {},
   "outputs": [],
   "source": []
  },
  {
   "cell_type": "code",
   "execution_count": null,
   "metadata": {},
   "outputs": [],
   "source": []
  },
  {
   "cell_type": "code",
   "execution_count": null,
   "metadata": {},
   "outputs": [],
   "source": []
  },
  {
   "cell_type": "code",
   "execution_count": 544,
   "metadata": {},
   "outputs": [],
   "source": []
  },
  {
   "cell_type": "code",
   "execution_count": 545,
   "metadata": {},
   "outputs": [
    {
     "data": {
      "text/plain": [
       "1"
      ]
     },
     "execution_count": 545,
     "metadata": {},
     "output_type": "execute_result"
    }
   ],
   "source": []
  },
  {
   "cell_type": "code",
   "execution_count": 546,
   "metadata": {},
   "outputs": [
    {
     "name": "stdout",
     "output_type": "stream",
     "text": [
      "1\n"
     ]
    }
   ],
   "source": [
    "print(w2n.word_to_num('1'))"
   ]
  },
  {
   "cell_type": "code",
   "execution_count": 547,
   "metadata": {},
   "outputs": [
    {
     "name": "stdout",
     "output_type": "stream",
     "text": [
      "1\n"
     ]
    }
   ],
   "source": [
    "print(w2n.word_to_num('one'))"
   ]
  },
  {
   "cell_type": "code",
   "execution_count": 548,
   "metadata": {},
   "outputs": [],
   "source": []
  },
  {
   "cell_type": "code",
   "execution_count": 549,
   "metadata": {},
   "outputs": [
    {
     "data": {
      "text/plain": [
       "<generator object <genexpr> at 0x000002023CC487B0>"
      ]
     },
     "execution_count": 549,
     "metadata": {},
     "output_type": "execute_result"
    }
   ],
   "source": []
  },
  {
   "cell_type": "code",
   "execution_count": 550,
   "metadata": {},
   "outputs": [],
   "source": [
    "#myList = [\"Foo\", \"Bar\"]\n",
    "#print(\"\\n\".join(map(str, myList)))"
   ]
  },
  {
   "cell_type": "code",
   "execution_count": 551,
   "metadata": {},
   "outputs": [],
   "source": [
    "#for p in myList:\n",
    "#    print(p)"
   ]
  },
  {
   "cell_type": "code",
   "execution_count": 552,
   "metadata": {},
   "outputs": [],
   "source": [
    "   #print([print(i+1) for i in range(9)])"
   ]
  },
  {
   "cell_type": "code",
   "execution_count": null,
   "metadata": {
    "scrolled": true
   },
   "outputs": [],
   "source": []
  },
  {
   "cell_type": "code",
   "execution_count": 425,
   "metadata": {
    "scrolled": true
   },
   "outputs": [
    {
     "name": "stdout",
     "output_type": "stream",
     "text": [
      "Collecting word2number\n",
      "  Downloading word2number-1.1.zip (9.7 kB)\n",
      "Building wheels for collected packages: word2number\n",
      "  Building wheel for word2number (setup.py): started\n",
      "  Building wheel for word2number (setup.py): finished with status 'done'\n",
      "  Created wheel for word2number: filename=word2number-1.1-py3-none-any.whl size=5591 sha256=580b47a2688a08f43240aff190cf077e42953f54f78393b0ee5498cb6b071009\n",
      "  Stored in directory: c:\\users\\rusla\\appdata\\local\\pip\\cache\\wheels\\cb\\f3\\5a\\d88198fdeb46781ddd7e7f2653061af83e7adb2a076d8886d6\n",
      "Successfully built word2number\n",
      "Installing collected packages: word2number\n",
      "Successfully installed word2number-1.1\n",
      "Note: you may need to restart the kernel to use updated packages.\n"
     ]
    }
   ],
   "source": []
  },
  {
   "cell_type": "code",
   "execution_count": 429,
   "metadata": {},
   "outputs": [],
   "source": [
    "from word2number import w2n"
   ]
  },
  {
   "cell_type": "code",
   "execution_count": 430,
   "metadata": {},
   "outputs": [
    {
     "name": "stdout",
     "output_type": "stream",
     "text": [
      "112\n"
     ]
    }
   ],
   "source": [
    "print(w2n.word_to_num('112'))"
   ]
  },
  {
   "cell_type": "code",
   "execution_count": null,
   "metadata": {},
   "outputs": [],
   "source": [
    "   # pagina = wikipedia.page(result) \n",
    "    #print(pagina.title)\n",
    "    #print(pagina.url)\n",
    "    #print(pagina.content)\n",
    "   # print(wikipedia.summary(topic_string))"
   ]
  },
  {
   "cell_type": "code",
   "execution_count": null,
   "metadata": {},
   "outputs": [],
   "source": []
  },
  {
   "cell_type": "code",
   "execution_count": null,
   "metadata": {},
   "outputs": [],
   "source": []
  },
  {
   "cell_type": "code",
   "execution_count": null,
   "metadata": {},
   "outputs": [],
   "source": []
  },
  {
   "cell_type": "code",
   "execution_count": 746,
   "metadata": {},
   "outputs": [],
   "source": [
    "stringtosave=covid.content"
   ]
  },
  {
   "cell_type": "code",
   "execution_count": 787,
   "metadata": {},
   "outputs": [],
   "source": [
    "stringtosave=wikipedia.summary('coronavirus')"
   ]
  },
  {
   "cell_type": "code",
   "execution_count": 788,
   "metadata": {},
   "outputs": [
    {
     "data": {
      "text/plain": [
       "str"
      ]
     },
     "execution_count": 788,
     "metadata": {},
     "output_type": "execute_result"
    }
   ],
   "source": [
    "type(stringtosave)"
   ]
  },
  {
   "cell_type": "code",
   "execution_count": null,
   "metadata": {},
   "outputs": [],
   "source": []
  },
  {
   "cell_type": "code",
   "execution_count": null,
   "metadata": {},
   "outputs": [],
   "source": []
  },
  {
   "cell_type": "code",
   "execution_count": 756,
   "metadata": {},
   "outputs": [],
   "source": [
    "def writestringfile(string_tosave):\n",
    "    text_file = open(\"sample.txt\", \"w\", encoding='utf-8')\n",
    "    n = text_file.write(string_tosave)\n",
    "    text_file.close()\n",
    "    \n",
    "def readstringfile(filetoread):\n",
    "    with open (filetoread, \"r\", encoding='utf-8') as myfile:\n",
    "        data=myfile.readlines()\n",
    "        return data       "
   ]
  },
  {
   "cell_type": "code",
   "execution_count": 789,
   "metadata": {},
   "outputs": [],
   "source": [
    "writestringfile(stringtosave)"
   ]
  },
  {
   "cell_type": "code",
   "execution_count": 790,
   "metadata": {},
   "outputs": [],
   "source": [
    "filetoread=\"sample.txt\""
   ]
  },
  {
   "cell_type": "code",
   "execution_count": 791,
   "metadata": {},
   "outputs": [],
   "source": [
    "info=readstringfile(filetoread)"
   ]
  },
  {
   "cell_type": "code",
   "execution_count": 740,
   "metadata": {},
   "outputs": [],
   "source": []
  },
  {
   "cell_type": "code",
   "execution_count": null,
   "metadata": {},
   "outputs": [],
   "source": []
  },
  {
   "cell_type": "code",
   "execution_count": 742,
   "metadata": {},
   "outputs": [],
   "source": []
  },
  {
   "cell_type": "code",
   "execution_count": 743,
   "metadata": {},
   "outputs": [],
   "source": []
  },
  {
   "cell_type": "code",
   "execution_count": null,
   "metadata": {},
   "outputs": [],
   "source": []
  },
  {
   "cell_type": "code",
   "execution_count": null,
   "metadata": {},
   "outputs": [],
   "source": []
  },
  {
   "cell_type": "code",
   "execution_count": null,
   "metadata": {},
   "outputs": [],
   "source": []
  },
  {
   "cell_type": "code",
   "execution_count": null,
   "metadata": {},
   "outputs": [],
   "source": []
  },
  {
   "cell_type": "code",
   "execution_count": null,
   "metadata": {},
   "outputs": [],
   "source": []
  },
  {
   "cell_type": "code",
   "execution_count": null,
   "metadata": {},
   "outputs": [],
   "source": []
  },
  {
   "cell_type": "code",
   "execution_count": null,
   "metadata": {},
   "outputs": [],
   "source": [
    "#print(wikipedia.search(\"Coronavir\"))"
   ]
  },
  {
   "cell_type": "code",
   "execution_count": 78,
   "metadata": {},
   "outputs": [],
   "source": [
    "#import wikipedia\n"
   ]
  },
  {
   "cell_type": "code",
   "execution_count": 87,
   "metadata": {},
   "outputs": [],
   "source": [
    "#print(wikipedia.search(\"Coronavirus\"))"
   ]
  },
  {
   "cell_type": "code",
   "execution_count": 82,
   "metadata": {},
   "outputs": [],
   "source": [
    "#covid = wikipedia.page(\"Coronavirus\")"
   ]
  },
  {
   "cell_type": "code",
   "execution_count": 83,
   "metadata": {},
   "outputs": [
    {
     "name": "stdout",
     "output_type": "stream",
     "text": [
      "https://en.wikipedia.org/wiki/Coronavirus\n"
     ]
    }
   ],
   "source": [
    "#print(covid.url)"
   ]
  },
  {
   "cell_type": "code",
   "execution_count": 731,
   "metadata": {},
   "outputs": [],
   "source": [
    "#print(covid.content)"
   ]
  },
  {
   "cell_type": "code",
   "execution_count": 732,
   "metadata": {},
   "outputs": [],
   "source": [
    "#type(covid.content)"
   ]
  },
  {
   "cell_type": "code",
   "execution_count": 86,
   "metadata": {},
   "outputs": [],
   "source": [
    "#p = wikipedia.page(\"Python programming language\")"
   ]
  },
  {
   "cell_type": "code",
   "execution_count": null,
   "metadata": {},
   "outputs": [],
   "source": [
    "#print(p.url)\n",
    "#print(p.title)\n",
    "#content = p.content # Content of page."
   ]
  },
  {
   "cell_type": "code",
   "execution_count": 733,
   "metadata": {},
   "outputs": [],
   "source": [
    "#print(covid.content)"
   ]
  },
  {
   "cell_type": "code",
   "execution_count": null,
   "metadata": {},
   "outputs": [],
   "source": []
  },
  {
   "cell_type": "code",
   "execution_count": null,
   "metadata": {},
   "outputs": [],
   "source": []
  },
  {
   "cell_type": "code",
   "execution_count": null,
   "metadata": {},
   "outputs": [],
   "source": []
  },
  {
   "cell_type": "code",
   "execution_count": null,
   "metadata": {},
   "outputs": [],
   "source": []
  },
  {
   "cell_type": "code",
   "execution_count": null,
   "metadata": {},
   "outputs": [],
   "source": []
  },
  {
   "cell_type": "code",
   "execution_count": null,
   "metadata": {},
   "outputs": [],
   "source": []
  },
  {
   "cell_type": "code",
   "execution_count": 533,
   "metadata": {},
   "outputs": [
    {
     "name": "stderr",
     "output_type": "stream",
     "text": [
      "[nltk_data] Downloading package punkt to\n",
      "[nltk_data]     C:\\Users\\rusla\\AppData\\Roaming\\nltk_data...\n",
      "[nltk_data]   Package punkt is already up-to-date!\n",
      "[nltk_data] Downloading package wordnet to\n",
      "[nltk_data]     C:\\Users\\rusla\\AppData\\Roaming\\nltk_data...\n",
      "[nltk_data]   Package wordnet is already up-to-date!\n"
     ]
    }
   ],
   "source": [
    "#sudo apt-get install portaudio19-dev python-all-dev python3-all-dev\n",
    "#sudo apt-get install portaudio19-dev\n",
    "#pip install SpeechRecognition numpy gTTs sklearn\n",
    "#pip install gTTS\n",
    "#sudo apt-get install mpg123\n",
    "import io\n",
    "import random\n",
    "import string\n",
    "import warnings\n",
    "import numpy as np\n",
    "from sklearn.feature_extraction.text import TfidfVectorizer\n",
    "from sklearn.metrics.pairwise import cosine_similarity\n",
    "import warnings\n",
    "from gtts import gTTS\n",
    "import os\n",
    "warnings.filterwarnings('ignore')\n",
    "import speech_recognition as sr\n",
    "import nltk\n",
    "from nltk.stem import WordNetLemmatizer\n",
    "\n",
    "import pyaudio\n",
    "import speech_recognition as sr\n",
    "from playsound import playsound\n",
    "\n",
    "# for downloading package files can be commented after First run\n",
    "nltk.download('popular', quiet=True)\n",
    "nltk.download('nps_chat',quiet=True)\n",
    "nltk.download('punkt')\n",
    "nltk.download('wordnet')\n",
    "\n",
    "posts = nltk.corpus.nps_chat.xml_posts()[:10000]\n",
    "\n",
    "# To Recognise input type as QUES.\n",
    "def dialogue_act_features(post):\n",
    "    features = {}\n",
    "    for word in nltk.word_tokenize(post):\n",
    "        features['contains({})'.format(word.lower())] = True\n",
    "    return features\n",
    "\n",
    "featuresets = [(dialogue_act_features(post.text), post.get('class')) for post in posts]\n",
    "size = int(len(featuresets) * 0.1)\n",
    "train_set, test_set = featuresets[size:], featuresets[:size]\n",
    "classifier = nltk.NaiveBayesClassifier.train(train_set)\n",
    "\n",
    "# Recognised input types\n",
    "#Greet\n",
    "#\"Bye\"/>\n",
    "#\"Clarify\"/>\n",
    "#\"Continuer\"/>\n",
    "#\"Emotion\"/>\n",
    "#\"Emphasis\"/>\n",
    "#\"Greet\"/>\n",
    "#\"Reject\"/>\n",
    "#\"Statement\"/>\n",
    "#\"System\"/>\n",
    "#\"nAnswer\"/>\n",
    "#\"whQuestion\"/>\n",
    "#\"yAnswer\"/>\n",
    "#\"ynQuestion\"/>\n",
    "#\"Other\"\n",
    "\n",
    "\n",
    "#colour palet\n",
    "def prRed(skk): print(\"\\033[91m {}\\033[00m\" .format(skk))\n",
    "def prGreen(skk): print(\"\\033[92m {}\\033[00m\" .format(skk))\n",
    "def prYellow(skk): print(\"\\033[93m {}\\033[00m\" .format(skk))\n",
    "def prLightPurple(skk): print(\"\\033[94m {}\\033[00m\" .format(skk))\n",
    "def prPurple(skk): print(\"\\033[95m {}\\033[00m\" .format(skk))\n",
    "def prCyan(skk): print(\"\\033[96m {}\\033[00m\" .format(skk))\n",
    "def prLightGray(skk): print(\"\\033[97m {}\\033[00m\" .format(skk))\n",
    "def prBlack(skk): print(\"\\033[98m {}\\033[00m\" .format(skk))\n"
   ]
  },
  {
   "cell_type": "code",
   "execution_count": 776,
   "metadata": {},
   "outputs": [],
   "source": [
    "filetoread='intro_join'"
   ]
  },
  {
   "cell_type": "code",
   "execution_count": 777,
   "metadata": {},
   "outputs": [],
   "source": [
    "def reading_input_corpus(textfile):\n",
    "#Reading in the input_corpus\n",
    "    with open(textfile,'r', encoding='utf8', errors ='ignore') as fin:\n",
    "        raw = fin.read().lower()\n",
    "    #print(raw)\n",
    "    return(raw)\n"
   ]
  },
  {
   "cell_type": "code",
   "execution_count": 778,
   "metadata": {},
   "outputs": [
    {
     "data": {
      "text/plain": [
       "'chatbot is a computer program which conducts a conversation via auditory or textual methods.[1] such programs are often designed to convincingly simulate how a human would behave as a conversational partner, although as of 2019, they are far short of being able to pass the turing test.[2] chatbots are typically used in dialog systems for various practical purposes including customer service or information acquisition. some chatbots use sophisticated natural language processing systems, but many simpler ones scan for keywords within the input, then pull a reply with the most matching keywords, or the most similar wording pattern, from a database.\\n\\nthe term \"chatterbot\" was originally coined by michael mauldin (creator of the first verbot, julia) in 1994 to describe these conversational programs.[3] today, most chatbots are accessed via virtual assistants such as google assistant and amazon alexa, via messaging apps such as facebook messenger or wechat, or via individual organizations\\' apps and websites.[4][5] chatbots can be classified into usage categories such as conversational commerce (e-commerce via chat), analytics, communication, customer support, design, developer tools, education, entertainment, finance, food, games, health, hr, marketing, news, personal, productivity, shopping, social, sports, travel and utilities.[6]\\n\\nbeyond chatbots, conversational ai refers to the use of messaging apps, speech-based assistants and chatbots to automate communication and create personalized customer experiences at scale.\\n\\n\\nathlete\\'s foot\\nother names\\ttinea pedis, ringworm of the foot,[1] moccasin foot[2]\\na severe case of athlete\\'s foot\\nspecialty\\tinfectious disease\\nsymptoms\\titching, scaling, redness of the foot[3]\\ncauses\\tfungi (trichophyton, epidermophyton, microsporum)[4]\\ndiagnostic method\\tbased on symptoms, confirmed by culture or microscopy[4]\\nprevention\\tavoiding walking barefoot in public showers, keeping toenails short, wearing big enough shoes, changing socks daily[4][5]\\ntreatment\\tantifungal medication applied to the skin or taken by mouth[2][4]\\nfrequency\\t15% of the population[2]\\nathlete\\'s foot, known medically as tinea pedis, is a common skin infection of the feet caused by fungus.[2] signs and symptoms often include itching, scaling, cracking and redness.[3] in rare cases the skin may blister.[6] athlete\\'s foot fungus may infect any part of the foot, but most often grows between the toes.[3] the next most common area is the bottom of the foot.[6] the same fungus may also affect the nails or the hands.[4] it is a member of the group of diseases known as tinea.[7]\\nathlete\\'s foot is caused by a number of different fungi,[3] including species of trichophyton, epidermophyton, and microsporum.[4] the condition is typically acquired by coming into contact with infected skin, or fungus in the environment.[3] common places where the fungi can survive are around swimming pools and in locker rooms.[8] they may also be spread from other animals.[5] usually diagnosis is made based on signs and symptoms; however, it can be confirmed either by culture or seeing hyphae using a microscope.[4]\\n\\nsome methods of prevention include avoiding walking barefoot in public showers, keeping the toenails short, wearing big enough shoes, and changing socks daily.[4][5] when infected, the feet should be kept dry and clean and wearing sandals may help.[3] treatment can be either with antifungal medication applied to the skin such as clotrimazole or for persistent infections antifungal medication that are taken by mouth such as terbinafine.[2][4] the use of the cream is typically recommended for four weeks.[4]\\n\\nathlete\\'s foot was first medically described in 1908.[9] globally, athlete\\'s foot affects about 15% of the population.[2] males are more often affected than females.[4] it occurs most frequently in older children or younger adults.[4] historically it is believed to have been a rare condition, that became more frequent in the 1900s due to the greater use of shoes, health clubs, war, and travel.[10]\\n\\n\\n\\nathlete\\'s foot\\nathlete\\'s foot is divided into four categories or presentations: chronic interdigital athlete\\'s foot, plantar (chronic scaly) athlete\\'s foot (aka \"moccasin foot\"), acute ulcerative tinea pedis,[11] and vesiculobullous athlete\\'s foot.[2][12][13] \"interdigital\" means between the toes. \"plantar\" here refers to the sole of the foot. the ulcerative condition includes macerated lesions with scaly borders.[11] maceration is the softening and breaking down of skin due to extensive exposure to moisture. a vesiculobullous disease is a type of mucocutaneous disease characterized by vesicles and bullae (blisters). both vesicles and bullae are fluid-filled lesions, and they are distinguished by size (vesicles being less than 5–10 mm and bulla being larger than 5–10 mm, depending upon what definition is used).\\n\\nathlete\\'s foot occurs most often between the toes (interdigital), with the space between the fourth and fifth digits most commonly afflicted.[14][15][16] cases of interdigital athlete\\'s foot caused by trichophyton rubrum may be symptomless, it may itch, or the skin between the toes may appear red or ulcerative (scaly, flaky, with soft and white if skin has been kept wet),[7][17] with or without itching. an acute ulcerative variant of interdigital athlete\\'s foot caused by t. mentagrophytes is characterized by pain, maceration of the skin, erosions and fissuring of the skin, crusting, and an odor due to secondary bacterial infection.[13]\\n\\nplantar athlete\\'s foot (moccasin foot) is also caused by t. rubrum which typically causes asymptomatic, slightly erythematous plaques (areas of redness of the skin) to form on the plantar surface (sole) of the foot that are often covered by fine, powdery hyperkeratotic scales.[2][13]\\n\\nthe vesiculobullous type of athlete\\'s foot is less common and is usually caused by t. mentagrophytes and is characterized by a sudden outbreak of itchy blisters and vesicles on an erythematous base,[7] usually appearing on the sole of the foot. this subtype of athlete\\'s foot is often complicated by secondary bacterial infection by streptococcus pyogenes or staphylococcus aureus.[13]\\n\\ncomplications[edit]\\nas the disease progresses, the skin may crack, leading to bacterial skin infection[13] and inflammation of the lymphatic vessels.[11] if allowed to grow for too long, athlete\\'s foot fungus may spread to infect the toenails,[18] feeding on the keratin in them, a condition called onychomycosis.[19]\\n\\nbecause athlete\\'s foot may itch, it may also elicit the scratch reflex, causing the host to scratch the infected area before they realize it. scratching can further damage the skin and worsen the condition by allowing the fungus to more easily spread and thrive. the itching sensation associated with athlete\\'s foot can be so severe that it may cause hosts to scratch vigorously enough to inflict excoriations (open wounds), which are susceptible to bacterial infection. further scratching may remove scabs, inhibiting the healing process.\\n\\nscratching infected areas may also spread the fungus to the fingers and under the fingernails. if not washed away soon enough, it can infect the fingers and fingernails, growing in the skin and in the nails (not just underneath). after scratching, it can be spread to wherever the person touches, including other parts of the body and to one\\'s environment. scratching also causes infected skin scales to fall off into one\\'s environment, leading to further possible spread.\\n\\nwhen athlete\\'s foot fungus or infested skin particles spread to one\\'s environment (such as to clothes, shoes, bathroom, etc.) whether through scratching, falling, or rubbing off, not only can they infect other people, they can also reinfect (or further infect) the host they came from. for example, infected feet infest one\\'s socks and shoes which further expose the feet to the fungus and its spores when worn again.\\n\\nthe ease with which the fungus spreads to other areas of the body (on one\\'s fingers) poses another complication. when the fungus is spread to other parts of the body, it can easily be spread back to the feet after the feet have been treated. and because the condition is called something else in each place it takes hold (e.g., tinea corporis (ringworm) or tinea cruris (jock itch), persons infected may not be aware it is the same disease.\\n\\nsome individuals may experience an allergic response to the fungus called an id reaction in which blisters or vesicles can appear in areas such as the hands, chest, and arms.[20] treatment of the underlying infection typically results in the disappearance of the id reaction.[20]\\n\\ncauses[edit]\\nathlete\\'s foot is a form of dermatophytosis (fungal infection of the skin), caused by dermatophytes, fungi (most of which are mold) which inhabit dead layers of skin and digest keratin.[2] dermatophytes are anthropophilic, meaning these parasitic fungi prefer human hosts. athlete\\'s foot is most commonly caused by the molds known as trichophyton rubrum and t. mentagrophytes,[21] but may also be caused by epidermophyton floccosum.[22][23] most cases of athlete\\'s foot in the general population are caused by t. rubrum; however, the majority of athlete\\'s foot cases in athletes are caused by t. mentagrophytes.[13]\\n\\ntransmission[edit]\\naccording to the uk\\'s national health service, \"athlete’s foot is very contagious and can be spread through direct and indirect contact.\"[24] the disease may spread to others directly when they touch the infection. people can contract the disease indirectly by coming into contact with contaminated items (clothes, towels, etc.) or surfaces (such as bathroom, shower, or locker room floors). the fungi that cause athlete\\'s foot can easily spread to one\\'s environment. fungi rub off of fingers and bare feet, but also travel on the dead skin cells that continually fall off the body. athlete\\'s foot fungi and infested skin particles and flakes may spread to socks, shoes, clothes, to other people, pets (via petting), bed sheets, bathtubs, showers, sinks, counters, towels, rugs, floors, and carpets.\\n\\nwhen the fungus has spread to pets, it can subsequently spread to the hands and fingers of people who pet them. if a pet frequently gnaws upon itself, it might not be fleas it is reacting to, it may be the insatiable itch of tinea.\\n\\none way to contract athlete\\'s foot is to get a fungal infection somewhere else on the body first. the fungi causing athlete\\'s foot may spread from other areas of the body to the feet, usually by touching or scratching the affected area, thereby getting the fungus on the fingers, and then touching or scratching the feet. while the fungus remains the same, the name of the condition changes based on where on the body the infection is located. for example, the infection is known as tinea corporis (\"ringworm\") when the torso or limbs are affected or tinea cruris (jock itch or dhobi itch) when the groin is affected. clothes (or shoes), body heat, and sweat can keep the skin warm and moist, just the environment the fungus needs to thrive.\\n\\nrisk factors[edit]\\nbesides being exposed to any of the modes of transmission presented above, there are additional risk factors that increase one\\'s chance of contracting athlete\\'s foot. persons who have had athlete\\'s foot before are more likely to become infected than those who have not. adults are more likely to catch athlete\\'s foot than children. men have a higher chance of getting athlete\\'s foot than women.[25] people with diabetes or weakened immune systems[25] are more susceptible to the disease. hiv/aids hampers the immune system and increases the risk of acquiring athlete\\'s foot. hyperhidrosis (abnormally increased sweating) increases the risk of infection and makes treatment more difficult.[26]\\n\\ndiagnosis[edit]\\na\\nmicroscopic view of cultured athlete\\'s foot fungus\\nwhen visiting a doctor, the basic diagnosis procedure applies. this includes checking the patient\\'s medical history and medical record for risk factors,[11] a medical interview during which the doctor asks questions (such as about itching and scratching), and a physical examination.[11] athlete\\'s foot can usually be diagnosed by visual inspection of the skin and by identifying less obvious symptoms such as itching of the affected area.\\n\\nif the diagnosis is uncertain, direct microscopy of a potassium hydroxide preparation of a skin scraping (known as a koh test) can confirm the diagnosis of athlete\\'s foot and help rule out other possible causes, such as candidiasis, pitted keratolysis, erythrasma, contact dermatitis, eczema, or psoriasis.[13][23][27] dermatophytes known to cause athlete\\'s foot will demonstrate multiple septate branching hyphae on microscopy.[13]\\n\\na wood\\'s lamp (black light), although useful in diagnosing fungal infections of the scalp (tinea capitis), is not usually helpful in diagnosing athlete\\'s foot, since the common dermatophytes that cause this disease do not fluoresce under ultraviolet light.[14]\\n\\nprevention[edit]\\nthere are several preventive foot hygiene measures that can prevent athlete\\'s foot and reduce recurrence. some of these include keeping the feet dry, clipping toenails short; using a separate nail clipper for infected toenails; using socks made from well-ventilated cotton or synthetic moisture wicking materials (to soak moisture away from the skin to help keep it dry); avoiding tight-fitting footwear, changing socks frequently; and wearing sandals while walking through communal areas such as gym showers and locker rooms.[8][13][28]\\n\\naccording to the centers for disease control and prevention, \"nails should be clipped short and kept clean. nails can house and spread the infection.\"[29] recurrence of athlete\\'s foot can be prevented with the use of antifungal powder on the feet.[13]\\n\\nthe fungi (molds) that cause athlete\\'s foot require warmth and moisture to survive and grow. there is an increased risk of infection with exposure to warm, moist environments (e.g., occlusive footwear—shoes or boots that enclose the feet) and in shared humid environments such as communal showers, shared pools, and treatment tubs.[17] chlorine bleach is a disinfectant and common household cleaner that kills mold. cleaning surfaces with a chlorine bleach solution prevents the disease from spreading from subsequent contact. cleaning bathtubs, showers, bathroom floors, sinks, and counters with bleach helps prevent the spread of the disease, including reinfection.\\n\\nkeeping socks and shoes clean (using bleach in the wash) is one way to prevent fungi from taking hold and spreading. avoiding the sharing of boots and shoes is another way to prevent transmission. athlete\\'s foot can be transmitted by sharing footwear with an infected person. hand-me-downs and purchasing used shoes are other forms of shoe-sharing. not sharing also applies to towels, because, though less common, fungi can be passed along on towels, especially damp ones.\\n\\ntreatment[edit]\\nathlete\\'s foot resolves without medication (resolves by itself) in 30–40% of cases.[30] topical antifungal medication consistently produce much higher rates of cure.[31]\\n\\nconventional treatment typically involves thoroughly washing the feet daily or twice daily, followed by the application of a topical medication. because the outer skin layers are damaged and susceptible to reinfection, topical treatment generally continues until all layers of the skin are replaced, about 2–6 weeks after symptoms disappear. keeping feet dry and practicing good hygiene (as described in the above section on prevention) is crucial for killing the fungus and preventing reinfection.\\n\\ntreating the feet is not always enough. once socks or shoes are infested with fungi, wearing them again can reinfect (or further infect) the feet. socks can be effectively cleaned in the wash by adding bleach or by washing in water 60 °c (140 °f).[32] washing with bleach may help with shoes, but the only way to be absolutely certain that one cannot contract the disease again from a particular pair of shoes is to dispose of those shoes.[citation needed]\\n\\nto be effective, treatment includes all infected areas (such as toenails, hands, torso, etc.). otherwise, the infection may continue to spread, including back to treated areas. for example, leaving fungal infection of the nail untreated may allow it to spread back to the rest of the foot, to become athlete\\'s foot once again.\\n\\nallylamines such as terbinafine are considered more efficacious than azoles for the treatment of athlete\\'s foot.[13][33]\\n\\nsevere or prolonged fungal skin infections may require treatment with oral antifungal medication.\\n\\ntopical treatments[edit]\\nthere are many topical antifungal drugs useful in the treatment of athlete\\'s foot including: miconazole nitrate, clotrimazole, tolnaftate (a synthetic thiocarbamate), terbinafine hydrochloride,[17] butenafine hydrochloride and undecylenic acid. the fungal infection may be treated with topical antifungal agents, which can take the form of a spray, powder, cream, or gel. topical application of an antifungal cream such as butenafine once daily for one week or terbinafine once daily for two weeks is effective in most cases of athlete\\'s foot and is more effective than application of miconazole or clotrimazole.[23] plantar-type athlete\\'s foot is more resistant to topical treatments due to the presence of thickened hyperkeratotic skin on the sole of the foot.[13] keratolytic and humectant medications such as urea, salicyclic acid (whitfield\\'s ointment), and lactic acid are useful adjunct medications and improve penetration of antifungal agents into the thickened skin.[13] topical glucocorticoids are sometimes prescribed to alleviate inflammation and itching associated with the infection.[13]\\n\\na solution of 1% potassium permanganate dissolved in hot water is an alternative to antifungal drugs.[34] potassium permanganate is a salt and a strong oxidizing agent.\\n\\noral treatments[edit]\\nfor severe or refractory cases of athlete\\'s foot oral terbinafine is more effective than griseofulvin.[2] fluconazole or itraconazole may also be taken orally for severe athlete\\'s foot infections.[2] the most commonly reported adverse effect from these medications is gastrointestinal upset.[2]\\n\\nepidemiology[edit]\\nglobally, fungal infections affect about 15% of the population and 20% of adults.[2][21] athlete\\'s foot is common in individuals who wear unventilated (occlusive) footwear, such as rubber boots or vinyl shoes.[21][23] countries and regions where going barefoot is more common experience much lower rates of athlete\\'s foot than do populations which habitually wear shoes; as a result, the disease has been called \"a penalty of civilization\".[35] studies have demonstrated that men are infected 2–4 times more often than women.[2]\\n'"
      ]
     },
     "execution_count": 778,
     "metadata": {},
     "output_type": "execute_result"
    }
   ],
   "source": [
    "reading_input_corpus(filetoread)"
   ]
  },
  {
   "cell_type": "code",
   "execution_count": 792,
   "metadata": {},
   "outputs": [],
   "source": [
    "filetoread=\"sample.txt\""
   ]
  },
  {
   "cell_type": "code",
   "execution_count": 799,
   "metadata": {},
   "outputs": [
    {
     "data": {
      "text/plain": [
       "'coronaviruses are a group of related rna viruses that cause diseases in mammals and birds. in humans and birds, they cause respiratory tract infections that can range from mild to lethal. mild illnesses in humans include some cases of the common cold (which is also caused by other viruses, predominantly rhinoviruses), while more lethal varieties can cause sars, mers, and covid-19. in cows and pigs they cause diarrhea, while in mice they cause hepatitis and encephalomyelitis.  \\ncoronaviruses constitute the subfamily orthocoronavirinae, in the family coronaviridae, order nidovirales, and realm riboviria. they are enveloped viruses with a positive-sense single-stranded rna genome and a nucleocapsid of helical symmetry. the genome size of coronaviruses ranges from approximately 26 to 32 kilobases, one of the largest among rna viruses. they have characteristic club-shaped spikes that project from their surface, which in electron micrographs create an image reminiscent of the solar corona, from which their name derives.'"
      ]
     },
     "execution_count": 799,
     "metadata": {},
     "output_type": "execute_result"
    }
   ],
   "source": [
    "reading_input_corpus(filetoread)"
   ]
  },
  {
   "cell_type": "code",
   "execution_count": 794,
   "metadata": {},
   "outputs": [],
   "source": [
    "#Reading in the input_corpus\n",
    "#with open('intro_join','r', encoding='utf8', errors ='ignore') as fin:\n",
    "#    raw = fin.read().lower()"
   ]
  },
  {
   "cell_type": "code",
   "execution_count": 800,
   "metadata": {
    "scrolled": true
   },
   "outputs": [
    {
     "name": "stdout",
     "output_type": "stream",
     "text": [
      "\u001b[93m My name is Anna. I will answer your queries about Science. If you want to exit, say Bye\u001b[00m\n"
     ]
    }
   ],
   "source": [
    "raw=reading_input_corpus(filetoread)\n",
    "#TOkenisation\n",
    "sent_tokens = nltk.sent_tokenize(raw)# converts to list of sentences\n",
    "word_tokens = nltk.word_tokenize(raw)# converts to list of words\n",
    "# Preprocessing\n",
    "lemmer = WordNetLemmatizer()\n",
    "def LemTokens(tokens):\n",
    "    return [lemmer.lemmatize(token) for token in tokens]\n",
    "remove_punct_dict = dict((ord(punct), None) for punct in string.punctuation)\n",
    "def LemNormalize(text):\n",
    "    return LemTokens(nltk.word_tokenize(text.lower().translate(remove_punct_dict)))\n",
    "# Keyword Matching\n",
    "GREETING_INPUTS = (\"hello\", \"hi\", \"greetings\", \"sup\", \"what's up\",\"hey\",)\n",
    "GREETING_RESPONSES = [\"hi\", \"hey\", \"*nods*\", \"hi there\", \"hello\", \"I am glad! You are talking to me\"]\n",
    "\n",
    "def greeting(sentence):\n",
    "    \"\"\"If user's input is a greeting, return a greeting response\"\"\"\n",
    "    for word in sentence.split():\n",
    "        if word.lower() in GREETING_INPUTS:\n",
    "            return random.choice(GREETING_RESPONSES)\n",
    "\n",
    "\n",
    "#play text\n",
    "from gtts import gTTS\n",
    "import os\n",
    "def speak(inputstring):\n",
    "    inputs=inputstring\n",
    "    tosay = gTTS(inputs)\n",
    "    file = 'sentence2.mp3'\n",
    "    tosay.save(file)\n",
    "    playsound(file)\n",
    "    os.remove(file)\n",
    "    return\n",
    "\n",
    "\n",
    "# Generating response and processing\n",
    "def response(user_response):\n",
    "    robo_response=''\n",
    "    sent_tokens.append(user_response)\n",
    "    TfidfVec = TfidfVectorizer(tokenizer=LemNormalize, stop_words='english')\n",
    "    tfidf = TfidfVec.fit_transform(sent_tokens)\n",
    "    vals = cosine_similarity(tfidf[-1], tfidf)\n",
    "    idx=vals.argsort()[0][-2]\n",
    "    flat = vals.flatten()\n",
    "    flat.sort()\n",
    "    req_tfidf = flat[-2]\n",
    "    if(req_tfidf==0):\n",
    "        robo_response=robo_response+\"I am sorry! I don't understand you\"\n",
    "        return robo_response\n",
    "    else:\n",
    "        robo_response = robo_response+sent_tokens[idx]\n",
    "        return robo_response\n",
    "\n",
    "\n",
    "#Recording voice input using microphone\n",
    "file = \"file.mp3\"\n",
    "\n",
    "flag=True\n",
    "fst=\"My name is Anna. I will answer your queries about Science. If you want to exit, say Bye\"\n",
    "tts = gTTS(fst)\n",
    "tts.save(file)\n",
    "#os.system(\"mpg123 \" + file ) # linux\n",
    "playsound(file)\n",
    "os.remove(file)\n",
    "prYellow(fst)"
   ]
  },
  {
   "cell_type": "code",
   "execution_count": 796,
   "metadata": {},
   "outputs": [],
   "source": []
  },
  {
   "cell_type": "code",
   "execution_count": null,
   "metadata": {},
   "outputs": [],
   "source": []
  },
  {
   "cell_type": "code",
   "execution_count": null,
   "metadata": {},
   "outputs": [],
   "source": []
  },
  {
   "cell_type": "code",
   "execution_count": 536,
   "metadata": {},
   "outputs": [],
   "source": [
    "def GoogleRekognition():\n",
    "    r = sr.Recognizer()\n",
    "    r.energy_threshold=4000\n",
    "    with sr.Microphone() as source:\n",
    "        audio= r.listen(source)\n",
    "    try:\n",
    "        user_response = format(r.recognize_google(audio))\n",
    "        print(\"\\033[91m {}\\033[00m\" .format(\"YOU SAID : \"+user_response))\n",
    "        return user_response\n",
    "    except sr.UnknownValueError:\n",
    "        prYellow(\"Oops! Didn't catch that\")\n",
    "        pass\n",
    "     \n",
    "    "
   ]
  },
  {
   "cell_type": "code",
   "execution_count": 537,
   "metadata": {},
   "outputs": [],
   "source": [
    "#user_response=GoogleRekognition()"
   ]
  },
  {
   "cell_type": "code",
   "execution_count": 538,
   "metadata": {},
   "outputs": [],
   "source": [
    "#user_response"
   ]
  },
  {
   "cell_type": "code",
   "execution_count": 539,
   "metadata": {},
   "outputs": [],
   "source": [
    "#user_response = input()"
   ]
  },
  {
   "cell_type": "code",
   "execution_count": 540,
   "metadata": {},
   "outputs": [],
   "source": [
    "#flag"
   ]
  },
  {
   "cell_type": "code",
   "execution_count": 801,
   "metadata": {
    "scrolled": true
   },
   "outputs": [
    {
     "name": "stdout",
     "output_type": "stream",
     "text": [
      "coronavirus\n",
      "\u001b[93m Anna: \u001b[00m\n",
      "\u001b[93m I am sorry! I don't understand you\u001b[00m\n",
      "what is coronavirus\n",
      "\u001b[93m Anna: \u001b[00m\n",
      "\u001b[93m I am sorry! I don't understand you\u001b[00m\n",
      "diseases\n",
      "\u001b[93m Anna: \u001b[00m\n",
      "\u001b[93m coronaviruses are a group of related rna viruses that cause diseases in mammals and birds.\u001b[00m\n",
      "which type\n",
      "\u001b[93m Anna: \u001b[00m\n",
      "\u001b[93m I am sorry! I don't understand you\u001b[00m\n",
      "covid\n",
      "\u001b[93m Anna: \u001b[00m\n",
      "\u001b[93m I am sorry! I don't understand you\u001b[00m\n",
      "covid-19\n",
      "\u001b[93m Anna: \u001b[00m\n",
      "\u001b[93m mild illnesses in humans include some cases of the common cold (which is also caused by other viruses, predominantly rhinoviruses), while more lethal varieties can cause sars, mers, and covid-19.\u001b[00m\n",
      "exit\n",
      "\u001b[93m Anna: \u001b[00m\n",
      "\u001b[93m I am sorry! I don't understand you\u001b[00m\n",
      "bye\n",
      "\u001b[93m Anna: Bye! take care..\u001b[00m\n"
     ]
    }
   ],
   "source": [
    "# Taking voice input and processing\n",
    "flag=True\n",
    "while(flag==True):\n",
    "    #user_response=GoogleRekognition()    \n",
    "    user_response = input()\n",
    "    #user_response=user_response.lower()\n",
    "    clas=classifier.classify(dialogue_act_features(user_response))\n",
    "    if(clas!='Bye'):\n",
    "        if(clas=='Emotion'):\n",
    "            flag=False\n",
    "            texThanks='You are welcome..'\n",
    "            prYellow(\"Anna: \"+ texThanks)\n",
    "            speak(texThanks)        \n",
    "        else:\n",
    "            if(greeting(user_response)!=None):\n",
    "                texCiao=greeting(user_response)\n",
    "                print(\"\\033[93m {}\\033[00m\" .format(\"Anna: \"+texCiao))\n",
    "                speak(texCiao)\n",
    "            else:\n",
    "                print(\"\\033[93m {}\\033[00m\" .format(\"Anna: \",end=\"\"))\n",
    "                res=(response(user_response))\n",
    "                prYellow(res)\n",
    "                sent_tokens.remove(user_response)\n",
    "                tts = gTTS(res)\n",
    "                tts.save(file)\n",
    "                # os.system(\"mpg123 \" + file)  #linux\n",
    "                playsound(file)\n",
    "                os.remove(file)\n",
    "    else:\n",
    "        flag=False\n",
    "        texExit=\"Bye! take care..\"\n",
    "        prYellow(\"Anna: \"+ texExit)\n",
    "        speak(texExit)\n",
    "        "
   ]
  },
  {
   "cell_type": "code",
   "execution_count": null,
   "metadata": {},
   "outputs": [],
   "source": []
  },
  {
   "cell_type": "code",
   "execution_count": 26,
   "metadata": {},
   "outputs": [],
   "source": []
  },
  {
   "cell_type": "code",
   "execution_count": 27,
   "metadata": {},
   "outputs": [],
   "source": []
  },
  {
   "cell_type": "code",
   "execution_count": null,
   "metadata": {},
   "outputs": [],
   "source": []
  },
  {
   "cell_type": "code",
   "execution_count": null,
   "metadata": {},
   "outputs": [],
   "source": [
    "\n"
   ]
  }
 ],
 "metadata": {
  "kernelspec": {
   "display_name": "Python 3",
   "language": "python",
   "name": "python3"
  },
  "language_info": {
   "codemirror_mode": {
    "name": "ipython",
    "version": 3
   },
   "file_extension": ".py",
   "mimetype": "text/x-python",
   "name": "python",
   "nbconvert_exporter": "python",
   "pygments_lexer": "ipython3",
   "version": "3.8.5"
  }
 },
 "nbformat": 4,
 "nbformat_minor": 4
}
