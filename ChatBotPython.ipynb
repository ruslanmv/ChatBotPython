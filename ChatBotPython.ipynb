{
 "cells": [
  {
   "cell_type": "code",
   "execution_count": 1,
   "metadata": {},
   "outputs": [],
   "source": [
    "import io\n",
    "import random\n",
    "import string\n",
    "import warnings\n",
    "import numpy as np\n",
    "from sklearn.feature_extraction.text import TfidfVectorizer\n",
    "from sklearn.metrics.pairwise import cosine_similarity\n",
    "import warnings\n",
    "from gtts import gTTS\n",
    "import os\n",
    "warnings.filterwarnings('ignore')\n",
    "import speech_recognition as sr \n",
    "import nltk\n",
    "from nltk.stem import WordNetLemmatizer"
   ]
  },
  {
   "cell_type": "code",
   "execution_count": 2,
   "metadata": {},
   "outputs": [],
   "source": [
    "# pip install playsound\n",
    "from playsound import playsound"
   ]
  },
  {
   "cell_type": "code",
   "execution_count": 3,
   "metadata": {},
   "outputs": [
    {
     "name": "stderr",
     "output_type": "stream",
     "text": [
      "[nltk_data] Downloading package punkt to\n",
      "[nltk_data]     C:\\Users\\rusla\\AppData\\Roaming\\nltk_data...\n",
      "[nltk_data]   Package punkt is already up-to-date!\n",
      "[nltk_data] Downloading package wordnet to\n",
      "[nltk_data]     C:\\Users\\rusla\\AppData\\Roaming\\nltk_data...\n",
      "[nltk_data]   Package wordnet is already up-to-date!\n"
     ]
    },
    {
     "data": {
      "text/plain": [
       "True"
      ]
     },
     "execution_count": 3,
     "metadata": {},
     "output_type": "execute_result"
    }
   ],
   "source": [
    "# for downloading package files can be commented after First run\n",
    "nltk.download('popular', quiet=True)\n",
    "nltk.download('nps_chat',quiet=True)\n",
    "nltk.download('punkt') \n",
    "nltk.download('wordnet')\n"
   ]
  },
  {
   "cell_type": "code",
   "execution_count": 4,
   "metadata": {},
   "outputs": [],
   "source": [
    "posts = nltk.corpus.nps_chat.xml_posts()[:10000]"
   ]
  },
  {
   "cell_type": "code",
   "execution_count": 5,
   "metadata": {},
   "outputs": [],
   "source": [
    "# To Recognise input type as QUES. \n",
    "def dialogue_act_features(post):\n",
    "    features = {}\n",
    "    for word in nltk.word_tokenize(post):\n",
    "        features['contains({})'.format(word.lower())] = True\n",
    "    return features"
   ]
  },
  {
   "cell_type": "code",
   "execution_count": 6,
   "metadata": {},
   "outputs": [],
   "source": [
    "featuresets = [(dialogue_act_features(post.text), post.get('class')) for post in posts]\n"
   ]
  },
  {
   "cell_type": "code",
   "execution_count": 7,
   "metadata": {},
   "outputs": [],
   "source": [
    "size = int(len(featuresets) * 0.1)"
   ]
  },
  {
   "cell_type": "code",
   "execution_count": 8,
   "metadata": {},
   "outputs": [],
   "source": [
    "train_set, test_set = featuresets[size:], featuresets[:size]"
   ]
  },
  {
   "cell_type": "code",
   "execution_count": 9,
   "metadata": {},
   "outputs": [],
   "source": [
    "classifier = nltk.NaiveBayesClassifier.train(train_set)"
   ]
  },
  {
   "cell_type": "code",
   "execution_count": 10,
   "metadata": {},
   "outputs": [],
   "source": [
    "# Recognised input types \n",
    "#Greet\n",
    "#\"Bye\"/>\n",
    "#\"Clarify\"/>\n",
    "#\"Continuer\"/>\n",
    "#\"Emotion\"/>\n",
    "#\"Emphasis\"/>\n",
    "#\"Greet\"/>\n",
    "#\"Reject\"/>\n",
    "#\"Statement\"/>\n",
    "#\"System\"/>\n",
    "#\"nAnswer\"/>\n",
    "#\"whQuestion\"/>\n",
    "#\"yAnswer\"/>\n",
    "#\"ynQuestion\"/>\n",
    "#\"Other\"\n"
   ]
  },
  {
   "cell_type": "code",
   "execution_count": 11,
   "metadata": {},
   "outputs": [],
   "source": [
    "#colour palet\n",
    "def prRed(skk): print(\"\\033[91m {}\\033[00m\" .format(skk)) \n",
    "def prGreen(skk): print(\"\\033[92m {}\\033[00m\" .format(skk)) \n",
    "def prYellow(skk): print(\"\\033[93m {}\\033[00m\" .format(skk)) \n",
    "def prLightPurple(skk): print(\"\\033[94m {}\\033[00m\" .format(skk)) \n",
    "def prPurple(skk): print(\"\\033[95m {}\\033[00m\" .format(skk)) \n",
    "def prCyan(skk): print(\"\\033[96m {}\\033[00m\" .format(skk)) \n",
    "def prLightGray(skk): print(\"\\033[97m {}\\033[00m\" .format(skk)) \n",
    "def prBlack(skk): print(\"\\033[98m {}\\033[00m\" .format(skk))\n"
   ]
  },
  {
   "cell_type": "code",
   "execution_count": 12,
   "metadata": {},
   "outputs": [],
   "source": [
    "#Reading in the input_corpus\n",
    "with open('intro_join','r', encoding='utf8', errors ='ignore') as fin:\n",
    "    raw = fin.read().lower()"
   ]
  },
  {
   "cell_type": "code",
   "execution_count": 13,
   "metadata": {},
   "outputs": [],
   "source": [
    "#TOkenisation\n",
    "sent_tokens = nltk.sent_tokenize(raw)# converts to list of sentences \n",
    "word_tokens = nltk.word_tokenize(raw)# converts to list of words"
   ]
  },
  {
   "cell_type": "code",
   "execution_count": 14,
   "metadata": {},
   "outputs": [],
   "source": [
    "# Preprocessing\n",
    "lemmer = WordNetLemmatizer()\n",
    "def LemTokens(tokens):\n",
    "    return [lemmer.lemmatize(token) for token in tokens]\n",
    "remove_punct_dict = dict((ord(punct), None) for punct in string.punctuation)\n",
    "def LemNormalize(text):\n",
    "    return LemTokens(nltk.word_tokenize(text.lower().translate(remove_punct_dict)))\n"
   ]
  },
  {
   "cell_type": "code",
   "execution_count": 15,
   "metadata": {},
   "outputs": [],
   "source": [
    "# Keyword Matching\n",
    "GREETING_INPUTS = (\"hello\", \"hi\", \"greetings\", \"sup\", \"what's up\",\"hey\",)\n",
    "GREETING_RESPONSES = [\"hi\", \"hey\", \"*nods*\", \"hi there\", \"hello\", \"I am glad! You are talking to me\"]\n"
   ]
  },
  {
   "cell_type": "code",
   "execution_count": 16,
   "metadata": {},
   "outputs": [],
   "source": [
    "def greeting(sentence):\n",
    "    \"\"\"If user's input is a greeting, return a greeting response\"\"\"\n",
    "    for word in sentence.split():\n",
    "        if word.lower() in GREETING_INPUTS:\n",
    "            return random.choice(GREETING_RESPONSES)\n"
   ]
  },
  {
   "cell_type": "code",
   "execution_count": 17,
   "metadata": {},
   "outputs": [],
   "source": [
    "# Generating response and processing \n",
    "def response(user_response):\n",
    "    robo_response=''\n",
    "    sent_tokens.append(user_response)\n",
    "    TfidfVec = TfidfVectorizer(tokenizer=LemNormalize, stop_words='english')\n",
    "    tfidf = TfidfVec.fit_transform(sent_tokens)\n",
    "    vals = cosine_similarity(tfidf[-1], tfidf)\n",
    "    idx=vals.argsort()[0][-2]\n",
    "    flat = vals.flatten()\n",
    "    flat.sort()\n",
    "    req_tfidf = flat[-2]\n",
    "    if(req_tfidf==0):\n",
    "        robo_response=robo_response+\"I am sorry! I don't understand you\"\n",
    "        return robo_response\n",
    "    else:\n",
    "        robo_response = robo_response+sent_tokens[idx]\n",
    "        return robo_response\n"
   ]
  },
  {
   "cell_type": "code",
   "execution_count": 18,
   "metadata": {},
   "outputs": [],
   "source": [
    "#Recording voice input using microphone \n",
    "file = 'file.mp3'\n",
    "flag=True"
   ]
  },
  {
   "cell_type": "code",
   "execution_count": 19,
   "metadata": {},
   "outputs": [],
   "source": [
    "from gtts import gTTS\n",
    "import os\n",
    "def speak(inputstring):\n",
    "    inputs=inputstring\n",
    "    tosay = gTTS(inputs)\n",
    "    file = 'sentence2.mp3'\n",
    "    tosay.save(file)\n",
    "    playsound(file)\n",
    "    os.remove(file)\n",
    "    return\n"
   ]
  },
  {
   "cell_type": "code",
   "execution_count": 20,
   "metadata": {},
   "outputs": [],
   "source": [
    "speak('I am with you')"
   ]
  },
  {
   "cell_type": "code",
   "execution_count": null,
   "metadata": {},
   "outputs": [],
   "source": []
  },
  {
   "cell_type": "code",
   "execution_count": 21,
   "metadata": {},
   "outputs": [],
   "source": [
    "playsound(file)"
   ]
  },
  {
   "cell_type": "code",
   "execution_count": null,
   "metadata": {},
   "outputs": [],
   "source": []
  },
  {
   "cell_type": "code",
   "execution_count": 22,
   "metadata": {},
   "outputs": [],
   "source": [
    "fst=\"My name is Jarvis. I will answer your queries about Science. If you want to exit, say Bye\"\n"
   ]
  },
  {
   "cell_type": "code",
   "execution_count": 23,
   "metadata": {},
   "outputs": [],
   "source": [
    "# pip install gTTS"
   ]
  },
  {
   "cell_type": "code",
   "execution_count": 29,
   "metadata": {},
   "outputs": [],
   "source": [
    "from gtts import gTTS"
   ]
  },
  {
   "cell_type": "code",
   "execution_count": 30,
   "metadata": {},
   "outputs": [],
   "source": [
    "tts = gTTS(fst)"
   ]
  },
  {
   "cell_type": "code",
   "execution_count": 31,
   "metadata": {},
   "outputs": [],
   "source": [
    "tts.save('hello.mp3')"
   ]
  },
  {
   "cell_type": "code",
   "execution_count": 32,
   "metadata": {},
   "outputs": [],
   "source": [
    "tts.save(file)"
   ]
  },
  {
   "cell_type": "code",
   "execution_count": 33,
   "metadata": {},
   "outputs": [
    {
     "data": {
      "text/plain": [
       "1"
      ]
     },
     "execution_count": 33,
     "metadata": {},
     "output_type": "execute_result"
    }
   ],
   "source": [
    "os.system(\"mpg123 \" + file )"
   ]
  },
  {
   "cell_type": "code",
   "execution_count": 34,
   "metadata": {},
   "outputs": [
    {
     "name": "stdout",
     "output_type": "stream",
     "text": [
      "\u001b[93m My name is Jarvis. I will answer your queries about Science. If you want to exit, say Bye\u001b[00m\n"
     ]
    }
   ],
   "source": [
    "r = sr.Recognizer()\n",
    "prYellow(fst)"
   ]
  },
  {
   "cell_type": "code",
   "execution_count": 35,
   "metadata": {},
   "outputs": [],
   "source": [
    "# We should install "
   ]
  },
  {
   "cell_type": "code",
   "execution_count": 36,
   "metadata": {},
   "outputs": [],
   "source": [
    "# https://visualstudio.microsoft.com/visual-cpp-build-tools/ "
   ]
  },
  {
   "cell_type": "code",
   "execution_count": 37,
   "metadata": {},
   "outputs": [],
   "source": [
    "#conda config --add channels conda-forge "
   ]
  },
  {
   "cell_type": "code",
   "execution_count": 38,
   "metadata": {},
   "outputs": [],
   "source": [
    "#conda install pyaudio"
   ]
  },
  {
   "cell_type": "code",
   "execution_count": 39,
   "metadata": {},
   "outputs": [],
   "source": [
    "# pip install pipwin\n",
    "#pipwin install pyaudio"
   ]
  },
  {
   "cell_type": "code",
   "execution_count": null,
   "metadata": {},
   "outputs": [],
   "source": []
  },
  {
   "cell_type": "code",
   "execution_count": 40,
   "metadata": {},
   "outputs": [
    {
     "name": "stdout",
     "output_type": "stream",
     "text": [
      "Speech was:hello\n"
     ]
    }
   ],
   "source": [
    "import pyaudio\n",
    "import speech_recognition as sr\n",
    "r=sr.Recognizer()\n",
    "r.energy_threshold=4000\n",
    "\n",
    "with sr.Microphone() as source:\n",
    "       audio=r.listen(source)\n",
    "\n",
    "try:\n",
    "       #print(\"Speech was:\" + r.recognize(audio))\n",
    "       # print(\"Speech was:\" + r.recognize(audio))\n",
    "       # print(\"Speech was:\" + r.recognize_google(audio, language = \"en-us\", show_all=False))\n",
    "       # print(\"Speech was:\" + r.recognize_google(audio))\n",
    "        tex=  \"Speech was:\" + r.recognize_google(audio)\n",
    "        print(tex)\n",
    "        speak(tex)\n",
    "except LookupError:\n",
    "        texError='Speech not understood'\n",
    "        print(texError)"
   ]
  },
  {
   "cell_type": "code",
   "execution_count": 41,
   "metadata": {},
   "outputs": [
    {
     "name": "stdout",
     "output_type": "stream",
     "text": [
      "\u001b[91m YOU SAID : bye\u001b[00m\n",
      "\u001b[93m Jarvis: Bye! take care..\u001b[00m\n"
     ]
    }
   ],
   "source": [
    "# Taking voice input and processing \n",
    "r=sr.Recognizer()\n",
    "r.energy_threshold=4000\n",
    "while(flag==True):\n",
    "    with sr.Microphone() as source:\n",
    "        audio= r.listen(source)\n",
    "    try:\n",
    "        user_response = format(r.recognize_google(audio))\n",
    "        print(\"\\033[91m {}\\033[00m\" .format(\"YOU SAID : \"+user_response))\n",
    "    except sr.UnknownValueError:\n",
    "        prYellow(\"Oops! Didn't catch that\")\n",
    "        pass\n",
    "    #user_response = input()\n",
    "    #user_response=user_response.lower()\n",
    "    clas=classifier.classify(dialogue_act_features(user_response))\n",
    "    if(clas!='Bye'):\n",
    "        if(clas=='Emotion'):\n",
    "            flag=False\n",
    "            prYellow(\"Jarvis: You are welcome..\")\n",
    "        else:\n",
    "            if(greeting(user_response)!=None):\n",
    "                print(\"\\033[93m {}\\033[00m\" .format(\"Jarvis: \"+greeting(user_response)))\n",
    "            else:\n",
    "                print(\"\\033[93m {}\\033[00m\" .format(\"Jarvis: \",end=\"\"))\n",
    "                res=(response(user_response))\n",
    "                prYellow(res)\n",
    "                sent_tokens.remove(user_response)\n",
    "                tts = gTTS(res)\n",
    "                tts.save(file)\n",
    "                os.system(\"mpg123 \" + file)\n",
    "    else:\n",
    "        flag=False\n",
    "        prYellow(\"Jarvis: Bye! take care..\")    "
   ]
  },
  {
   "cell_type": "code",
   "execution_count": null,
   "metadata": {},
   "outputs": [],
   "source": []
  },
  {
   "cell_type": "code",
   "execution_count": null,
   "metadata": {},
   "outputs": [],
   "source": []
  },
  {
   "cell_type": "code",
   "execution_count": 44,
   "metadata": {},
   "outputs": [],
   "source": [
    "# Taking voice input and processing \n",
    "r=sr.Recognizer()\n",
    "r.energy_threshold=4000\n",
    "while(flag==True):\n",
    "    with sr.Microphone() as source:\n",
    "        audio= r.listen(source)\n",
    "    try:\n",
    "        user_response = format(r.recognize_google(audio))\n",
    "        print(\"\\033[91m {}\\033[00m\" .format(\"YOU SAID : \"+user_response))\n",
    "    except sr.UnknownValueError:\n",
    "        texError=\"Oops! Didn't catch that\"\n",
    "        prYellow(texError)\n",
    "        pass\n",
    "    #user_response = input()\n",
    "    #user_response=user_response.lower()\n",
    "    clas=classifier.classify(dialogue_act_features(user_response))\n",
    "    if(clas!='Bye'):\n",
    "        if(clas=='Emotion'):\n",
    "            flag=False\n",
    "            tex=\"Jarvis: You are welcome..\"\n",
    "            prYellow(tex)\n",
    "        else:\n",
    "            if(greeting(user_response)!=None):\n",
    "                tex=\"\\033[93m {}\\033[00m\" .format(\"Jarvis: \"+greeting(user_response))\n",
    "                print(tex)\n",
    "            else:\n",
    "                tex=\"\\033[93m {}\\033[00m\" .format(\"Jarvis: \",end=\"\")\n",
    "                print(tex)\n",
    "                res=(response(user_response))\n",
    "                prYellow(res)\n",
    "                sent_tokens.remove(user_response)\n",
    "                tts = gTTS(res)\n",
    "                tts.save(file)\n",
    "                #os.system(\"mpg123 \" + file) linux\n",
    "                playsound(file)\n",
    "    else:\n",
    "        flag=False\n",
    "        tex=\"Jarvis: Bye! take care..\"\n",
    "        prYellow(tex)    "
   ]
  },
  {
   "cell_type": "code",
   "execution_count": 45,
   "metadata": {
    "scrolled": true
   },
   "outputs": [
    {
     "data": {
      "text/plain": [
       "'file.mp3'"
      ]
     },
     "execution_count": 45,
     "metadata": {},
     "output_type": "execute_result"
    }
   ],
   "source": [
    "file"
   ]
  },
  {
   "cell_type": "code",
   "execution_count": 46,
   "metadata": {},
   "outputs": [
    {
     "data": {
      "text/plain": [
       "1"
      ]
     },
     "execution_count": 46,
     "metadata": {},
     "output_type": "execute_result"
    }
   ],
   "source": [
    "os.system(\"mpg123 \" + file)"
   ]
  },
  {
   "cell_type": "code",
   "execution_count": null,
   "metadata": {},
   "outputs": [],
   "source": [
    "from playsound import playsound\n",
    "playsound('audio.mp3')"
   ]
  },
  {
   "cell_type": "code",
   "execution_count": 47,
   "metadata": {},
   "outputs": [],
   "source": [
    "playsound(file)"
   ]
  },
  {
   "cell_type": "code",
   "execution_count": null,
   "metadata": {},
   "outputs": [],
   "source": []
  },
  {
   "cell_type": "code",
   "execution_count": null,
   "metadata": {},
   "outputs": [],
   "source": []
  }
 ],
 "metadata": {
  "kernelspec": {
   "display_name": "Python 3",
   "language": "python",
   "name": "python3"
  },
  "language_info": {
   "codemirror_mode": {
    "name": "ipython",
    "version": 3
   },
   "file_extension": ".py",
   "mimetype": "text/x-python",
   "name": "python",
   "nbconvert_exporter": "python",
   "pygments_lexer": "ipython3",
   "version": "3.8.5"
  }
 },
 "nbformat": 4,
 "nbformat_minor": 4
}
